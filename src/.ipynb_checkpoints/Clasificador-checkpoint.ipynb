{
 "cells": [
  {
   "cell_type": "code",
   "execution_count": 1,
   "id": "f8ab136f",
   "metadata": {},
   "outputs": [],
   "source": [
    "import numpy as np\n",
    "from numpy import array\n",
    "import os\n",
    "import re\n",
    "import random\n",
    "import matplotlib.pyplot as plt\n",
    "import tensorflow as tf\n",
    "from tensorflow.keras.utils import to_categorical\n",
    "%matplotlib inline\n",
    "from sklearn.model_selection import train_test_split\n",
    "from sklearn.metrics import classification_report\n",
    "import keras\n",
    "from keras.models import Sequential,Input,Model\n",
    "from keras.layers import Dense, Dropout, Flatten\n",
    "from keras.layers import Conv2D, MaxPooling2D\n",
    "from keras.layers.advanced_activations import LeakyReLU\n",
    "from keras.layers import Dense, Dropout, Flatten, BatchNormalization, Activation\n",
    "from keras.constraints import maxnorm"
   ]
  },
  {
   "cell_type": "markdown",
   "id": "ad50afe8",
   "metadata": {},
   "source": [
    "### Cargamos las imagenes del dataset"
   ]
  },
  {
   "cell_type": "code",
   "execution_count": 2,
   "id": "7ecb771c",
   "metadata": {},
   "outputs": [],
   "source": [
    "# Obtenemos la dirección donde está nuestro dataset y cargamos las imagenes\n",
    "def carga(carpeta, showD = False):\n",
    "    \"\"\"\n",
    "    Este método recibe el nombre de la sub-carpeta de \"doc\" donde están las imagenes que bamos a cargar. Guearda\n",
    "    las imagenes a color e ignora todas las imagenes en grises.\n",
    "    :param carpeta: Nombre de la carpeta donde están las imagenes que cargaremos\n",
    "    :param showD: Si es 'True' despliega el diccionario con la equivalencia salida-Deporte(por default es False)  \n",
    "    \"\"\"\n",
    "    dire = os.getcwd()[:-3]\n",
    "    c = \"data\\\\\" + carpeta\n",
    "    dirname = os.path.join(dire, c)\n",
    "    imgpath = dirname + os.sep\n",
    "\n",
    "    images = []\n",
    "    directories = []\n",
    "    dircount = []\n",
    "    prevRoot=''\n",
    "    cant=0\n",
    "\n",
    "    # Cargamos las imágenes\n",
    "    print(\"leyendo imagenes de \",imgpath,\"\\n\")\n",
    "\n",
    "    for root, dirnames, filenames in os.walk(imgpath):\n",
    "        for filename in filenames:\n",
    "            if re.search(\"\\.(jpg)$\", filename):\n",
    "                cant=cant+1\n",
    "                filepath = os.path.join(root, filename)\n",
    "                image = plt.imread(filepath)\n",
    "                if len(np.shape(image)) == 3:\n",
    "                    images.append(image)\n",
    "                else:\n",
    "                    cant-=1\n",
    "                b = \"Leyendo...\" + str(cant)\n",
    "                print (b, end=\"\\r\")\n",
    "                if prevRoot !=root:\n",
    "                    print(\"Cargado: {0}\".format(root))\n",
    "                    prevRoot=root\n",
    "                    directories.append(root)\n",
    "                    dircount.append(cant)\n",
    "                    cant=0\n",
    "    dircount.append(cant)\n",
    "    print(\" \",end=\"\\r\")\n",
    "    dircount = dircount[1:]\n",
    "    dircount[len(directories)-1]=dircount[len(directories)-1]+1\n",
    "\n",
    "    print('Carpetas leidas:',len(directories))\n",
    "    print('Total de imagenes:',sum(dircount))\n",
    "    \n",
    "    #Damos formato a la salida X\n",
    "    X = array(images, dtype=np.uint8)/255\n",
    "    \n",
    "    # Clasificando y etiquetando las entradas\n",
    "    etiquetas = []\n",
    "    indice = 0\n",
    "    for cantidad in dircount:\n",
    "        for i in range(cantidad):\n",
    "            etiquetas.append(indice)\n",
    "        indice=indice+1\n",
    "    \n",
    "    diccionario = []\n",
    "    deportes=[]\n",
    "    indice = 0\n",
    "    for directorio in directories:\n",
    "        name = directorio.split(os.sep)\n",
    "        defin = str(indice)+\"-\"+name[len(name)-1]\n",
    "        #print(indice , name[len(name)-1])\n",
    "        diccionario.append(defin)\n",
    "        deportes.append(name[len(name)-1])\n",
    "        indice=indice+1\n",
    "    \n",
    "    #Damos formato a la salida y\n",
    "    y = np.array(etiquetas).astype('float32')\n",
    "\n",
    "    print('Número total de clases: ', len(np.unique(y)))\n",
    "    if showD:\n",
    "        print(\"Diccionario:\")\n",
    "        for p in diccionario:\n",
    "            print(\"\",p)\n",
    "\n",
    "    return X, y, diccionario"
   ]
  },
  {
   "cell_type": "markdown",
   "id": "6af8ded0",
   "metadata": {},
   "source": [
    "#### Si queremos entrenar la red entre 5 categorias:\n",
    "    Las carpetas a cargar serán \"train\" y \"test\" respectivamente.\n",
    "#### Si queremos entrenar la red entre 50 categorias:\n",
    "    Las carpetas a cargar serán \"train(50)\" y \"test(50)\" respectivamente.\n",
    "        (Aunque esta me tardó 2hrs en mi computadora)\n",
    "#### Si queremos entrenar la red entre 100 categorias:\n",
    "    Las carpetas a cargar serán \"train(100)\" y \"test(100)\" respectivamente.\n",
    "        (Esta pasmó mi computadora así que ya no supe cuanto tardaría)"
   ]
  },
  {
   "cell_type": "code",
   "execution_count": 3,
   "id": "71200b96",
   "metadata": {},
   "outputs": [
    {
     "name": "stdout",
     "output_type": "stream",
     "text": [
      "leyendo imagenes de  C:\\Users\\PC\\OneDrive\\Documentos\\Proyectos CC\\Proyecto\\ProyectoRN\\data\\train\\ \n",
      "\n",
      "Cargado: C:\\Users\\PC\\OneDrive\\Documentos\\Proyectos CC\\Proyecto\\ProyectoRN\\data\\train\\baseball\n",
      "Cargado: C:\\Users\\PC\\OneDrive\\Documentos\\Proyectos CC\\Proyecto\\ProyectoRN\\data\\train\\basketball\n",
      "Cargado: C:\\Users\\PC\\OneDrive\\Documentos\\Proyectos CC\\Proyecto\\ProyectoRN\\data\\train\\boxing\n",
      "Cargado: C:\\Users\\PC\\OneDrive\\Documentos\\Proyectos CC\\Proyecto\\ProyectoRN\\data\\train\\football\n",
      "Cargado: C:\\Users\\PC\\OneDrive\\Documentos\\Proyectos CC\\Proyecto\\ProyectoRN\\data\\train\\hockey\n",
      "Carpetas leidas: 5\n",
      "Total de imagenes: 821\n",
      "Número total de clases:  5\n",
      "Diccionario:\n",
      " 0-baseball\n",
      " 1-basketball\n",
      " 2-boxing\n",
      " 3-football\n",
      " 4-hockey\n"
     ]
    }
   ],
   "source": [
    "# Cargamos las imagenes para el entrenamiento\n",
    "Xe, Ye, diccionarioE = carga('train', showD = True)"
   ]
  },
  {
   "cell_type": "code",
   "execution_count": 4,
   "id": "6cc73caa",
   "metadata": {},
   "outputs": [
    {
     "name": "stdout",
     "output_type": "stream",
     "text": [
      "leyendo imagenes de  C:\\Users\\PC\\OneDrive\\Documentos\\Proyectos CC\\Proyecto\\ProyectoRN\\data\\test\\ \n",
      "\n",
      "Leyendo...1\r",
      "Cargado: C:\\Users\\PC\\OneDrive\\Documentos\\Proyectos CC\\Proyecto\\ProyectoRN\\data\\test\\baseball\n",
      "Leyendo...1\r",
      "Leyendo...2\r",
      "Leyendo...3\r",
      "Leyendo...4\r",
      "Leyendo...5\r",
      "Cargado: C:\\Users\\PC\\OneDrive\\Documentos\\Proyectos CC\\Proyecto\\ProyectoRN\\data\\test\\basketball\n",
      "Leyendo...1\r",
      "Leyendo...2\r",
      "Leyendo...3\r",
      "Leyendo...4\r",
      "Leyendo...5\r",
      "Cargado: C:\\Users\\PC\\OneDrive\\Documentos\\Proyectos CC\\Proyecto\\ProyectoRN\\data\\test\\boxing\n",
      "Leyendo...1\r",
      "Leyendo...2\r",
      "Leyendo...3\r",
      "Leyendo...4\r",
      "Leyendo...5\r",
      "Cargado: C:\\Users\\PC\\OneDrive\\Documentos\\Proyectos CC\\Proyecto\\ProyectoRN\\data\\test\\football\n",
      "Leyendo...1\r",
      "Leyendo...2\r",
      "Leyendo...3\r",
      "Leyendo...4\r",
      "Leyendo...5\r",
      "Cargado: C:\\Users\\PC\\OneDrive\\Documentos\\Proyectos CC\\Proyecto\\ProyectoRN\\data\\test\\hockey\n",
      "Leyendo...1\r",
      "Leyendo...2\r",
      "Leyendo...3\r",
      "Leyendo...4\r",
      " \r",
      "Carpetas leidas: 5\n",
      "Total de imagenes: 25\n",
      "Número total de clases:  5\n",
      "\t--Los diccionarios coinciden puede continuar\n"
     ]
    }
   ],
   "source": [
    "# Cargamos las imagenes para el test\n",
    "Xp, Yp, diccionarioT = carga('test')\n",
    "\n",
    "# Verificamos si nuestros diccionarios coinciden\n",
    "if diccionarioE == diccionarioT:\n",
    "    print(\"\\t--Los diccionarios coinciden puede continuar\")\n",
    "else:\n",
    "    print(\"\\t--Hay una diferencia en los diccionarios, verifiquelo\")"
   ]
  },
  {
   "cell_type": "markdown",
   "id": "c3cecb71",
   "metadata": {},
   "source": [
    "### Obtenemos nuestros conjuntos de Entrenamiento, prueva y validación"
   ]
  },
  {
   "cell_type": "markdown",
   "id": "578749af",
   "metadata": {},
   "source": [
    "#### Definimos nuestros modelos"
   ]
  },
  {
   "cell_type": "code",
   "execution_count": 6,
   "id": "9144a0ce",
   "metadata": {},
   "outputs": [],
   "source": [
    "INIT_LR = 1e-3\n",
    "epochs = 16\n",
    "batch_size = 64\n",
    "inShape = np.shape(Xp[0])\n",
    "nClasses=len(diccionarioE)"
   ]
  },
  {
   "cell_type": "code",
   "execution_count": 8,
   "id": "7f829587",
   "metadata": {},
   "outputs": [
    {
     "name": "stdout",
     "output_type": "stream",
     "text": [
      "Model: \"sequential_1\"\n",
      "_________________________________________________________________\n",
      " Layer (type)                Output Shape              Param #   \n",
      "=================================================================\n",
      " conv2d_1 (Conv2D)           (None, 224, 224, 32)      896       \n",
      "                                                                 \n",
      " leaky_re_lu_2 (LeakyReLU)   (None, 224, 224, 32)      0         \n",
      "                                                                 \n",
      " max_pooling2d_1 (MaxPooling  (None, 112, 112, 32)     0         \n",
      " 2D)                                                             \n",
      "                                                                 \n",
      " dropout_2 (Dropout)         (None, 112, 112, 32)      0         \n",
      "                                                                 \n",
      " flatten_1 (Flatten)         (None, 401408)            0         \n",
      "                                                                 \n",
      " dense_2 (Dense)             (None, 32)                12845088  \n",
      "                                                                 \n",
      " leaky_re_lu_3 (LeakyReLU)   (None, 32)                0         \n",
      "                                                                 \n",
      " dropout_3 (Dropout)         (None, 32)                0         \n",
      "                                                                 \n",
      " dense_3 (Dense)             (None, 5)                 165       \n",
      "                                                                 \n",
      "=================================================================\n",
      "Total params: 12,846,149\n",
      "Trainable params: 12,846,149\n",
      "Non-trainable params: 0\n",
      "_________________________________________________________________\n"
     ]
    }
   ],
   "source": [
    "# Modelo 1, un modelo pequeño, pasa sólo por un filtro, 1 puling, y 2 capas densas\n",
    "modelo1 = Sequential()\n",
    "modelo1.add(Conv2D(32, kernel_size=(3, 3),activation='linear',padding='same',input_shape=inShape))\n",
    "modelo1.add(LeakyReLU(alpha=0.1))\n",
    "modelo1.add(MaxPooling2D((2, 2),padding='same'))\n",
    "modelo1.add(Dropout(0.5))\n",
    " \n",
    "modelo1.add(Flatten())\n",
    "modelo1.add(Dense(32, activation='linear'))\n",
    "modelo1.add(LeakyReLU(alpha=0.1))\n",
    "modelo1.add(Dropout(0.5)) \n",
    "modelo1.add(Dense(nClasses, activation='softmax'))\n",
    " \n",
    "modelo1.summary()\n",
    "\n",
    "#modelo1.compile(loss=keras.losses.categorical_crossentropy, optimizer=tf.keras.optimizers.Adagrad(learning_rate=INIT_LR, decay=INIT_LR / 100),metrics=['accuracy'])\n",
    "modelo1.compile(loss=keras.losses.categorical_crossentropy, optimizer='adam',metrics=['accuracy'])"
   ]
  },
  {
   "cell_type": "code",
   "execution_count": 9,
   "id": "7471d3d3",
   "metadata": {},
   "outputs": [
    {
     "name": "stdout",
     "output_type": "stream",
     "text": [
      "Model: \"sequential_2\"\n",
      "_________________________________________________________________\n",
      " Layer (type)                Output Shape              Param #   \n",
      "=================================================================\n",
      " conv2d_2 (Conv2D)           (None, 224, 224, 32)      896       \n",
      "                                                                 \n",
      " conv2d_3 (Conv2D)           (None, 224, 224, 32)      9248      \n",
      "                                                                 \n",
      " conv2d_4 (Conv2D)           (None, 224, 224, 64)      18496     \n",
      "                                                                 \n",
      " max_pooling2d_2 (MaxPooling  (None, 112, 112, 64)     0         \n",
      " 2D)                                                             \n",
      "                                                                 \n",
      " dropout_4 (Dropout)         (None, 112, 112, 64)      0         \n",
      "                                                                 \n",
      " flatten_2 (Flatten)         (None, 802816)            0         \n",
      "                                                                 \n",
      " dense_4 (Dense)             (None, 64)                51380288  \n",
      "                                                                 \n",
      " leaky_re_lu_6 (LeakyReLU)   (None, 64)                0         \n",
      "                                                                 \n",
      " dropout_5 (Dropout)         (None, 64)                0         \n",
      "                                                                 \n",
      " batch_normalization (BatchN  (None, 64)               256       \n",
      " ormalization)                                                   \n",
      "                                                                 \n",
      " dense_5 (Dense)             (None, 32)                2080      \n",
      "                                                                 \n",
      " dropout_6 (Dropout)         (None, 32)                0         \n",
      "                                                                 \n",
      " dense_6 (Dense)             (None, 5)                 165       \n",
      "                                                                 \n",
      " activation (Activation)     (None, 5)                 0         \n",
      "                                                                 \n",
      "=================================================================\n",
      "Total params: 51,411,429\n",
      "Trainable params: 51,411,301\n",
      "Non-trainable params: 128\n",
      "_________________________________________________________________\n",
      "None\n"
     ]
    }
   ],
   "source": [
    "# Modelo 2, tiene 3 filtros, 1 pulida y 3 capas densas\n",
    "modelo2 = Sequential()\n",
    "modelo2.add(Conv2D(32, (3, 3), input_shape=inShape, activation='linear', padding='same'))\n",
    "modelo1.add(LeakyReLU(alpha=0.1))\n",
    "\n",
    "modelo2.add(Conv2D(32, (3, 3), activation='linear', padding='same'))\n",
    "modelo1.add(LeakyReLU(alpha=0.1))\n",
    "\n",
    "modelo2.add(Conv2D(64, (3, 3), activation='linear',padding='same'))\n",
    "modelo2.add(MaxPooling2D(pool_size=(2, 2)))\n",
    "modelo2.add(Dropout(0.5))\n",
    "\n",
    "modelo2.add(Flatten())\n",
    "\n",
    "modelo2.add(Dense(64, activation='linear'))\n",
    "modelo2.add(LeakyReLU(alpha=0.1))\n",
    "modelo2.add(Dropout(0.5))\n",
    "modelo2.add(BatchNormalization())\n",
    "\n",
    "modelo2.add(Dense(32, activation='linear'))\n",
    "modelo1.add(LeakyReLU(alpha=0.1))\n",
    "modelo2.add(Dropout(0.5))\n",
    "\n",
    "modelo2.add(Dense(nClasses))\n",
    "modelo2.add(Activation('softmax'))\n",
    "\n",
    "optimizer=\"adam\"\n",
    "\n",
    "modelo2.compile(loss=\"categorical_crossentropy\", optimizer=optimizer, metrics=['accuracy'])\n",
    "\n",
    "print(modelo2.summary())"
   ]
  },
  {
   "cell_type": "markdown",
   "id": "6722060a",
   "metadata": {},
   "source": [
    "### >>>Si queremos evaluar cada modelo por separado usamos estas celdas"
   ]
  },
  {
   "cell_type": "code",
   "execution_count": 10,
   "id": "a27ac334",
   "metadata": {},
   "outputs": [
    {
     "name": "stdout",
     "output_type": "stream",
     "text": [
      "Tamaño del conjunto de entrenamiento: 656\n",
      "Tamaño del conjunto de validación: 165\n",
      "Tamaño del conjunto de prueba: 25\n"
     ]
    }
   ],
   "source": [
    "# Cargamos nuestras listas\n",
    "train_X, train_Y = Xe, Ye\n",
    "test_X, test_Y = Xp, Yp \n",
    "\n",
    "# Cambiamos el formato de los valores esperados a one-hot\n",
    "train_Y_one_hot = to_categorical(train_Y)\n",
    "test_Y_one_hot = to_categorical(test_Y)\n",
    "\n",
    "#Separamos el conjunto de validación de el de entrenamiento\n",
    "train_X,valid_X,train_label,valid_label = train_test_split(train_X, train_Y_one_hot, test_size=0.2)\n",
    "print(\"Tamaño del conjunto de entrenamiento:\", len(train_X))\n",
    "print(\"Tamaño del conjunto de validación:\",len(valid_X))\n",
    "print(\"Tamaño del conjunto de prueba:\",len(test_X))"
   ]
  },
  {
   "cell_type": "markdown",
   "id": "4f21f9a8",
   "metadata": {},
   "source": [
    "        Entrenamiento del Modelo 1"
   ]
  },
  {
   "cell_type": "code",
   "execution_count": 11,
   "id": "1f224144",
   "metadata": {},
   "outputs": [
    {
     "name": "stdout",
     "output_type": "stream",
     "text": [
      "Epoch 1/16\n",
      "11/11 [==============================] - 11s 942ms/step - loss: 11.4515 - accuracy: 0.2012 - val_loss: 12.0027 - val_accuracy: 0.2303\n",
      "Epoch 2/16\n",
      "11/11 [==============================] - 10s 926ms/step - loss: 10.7263 - accuracy: 0.2805 - val_loss: 7.7780 - val_accuracy: 0.2424\n",
      "Epoch 3/16\n",
      "11/11 [==============================] - 10s 928ms/step - loss: 3.5925 - accuracy: 0.3720 - val_loss: 1.6231 - val_accuracy: 0.4061\n",
      "Epoch 4/16\n",
      "11/11 [==============================] - 10s 927ms/step - loss: 1.7691 - accuracy: 0.4482 - val_loss: 1.1732 - val_accuracy: 0.5939\n",
      "Epoch 5/16\n",
      "11/11 [==============================] - 10s 928ms/step - loss: 1.1783 - accuracy: 0.5732 - val_loss: 0.9994 - val_accuracy: 0.6303\n",
      "Epoch 6/16\n",
      "11/11 [==============================] - 10s 932ms/step - loss: 0.8018 - accuracy: 0.7073 - val_loss: 1.0599 - val_accuracy: 0.6000\n",
      "Epoch 7/16\n",
      "11/11 [==============================] - 10s 925ms/step - loss: 0.5677 - accuracy: 0.7912 - val_loss: 0.9511 - val_accuracy: 0.6848\n",
      "Epoch 8/16\n",
      "11/11 [==============================] - 10s 925ms/step - loss: 0.3774 - accuracy: 0.8765 - val_loss: 0.9342 - val_accuracy: 0.6788\n",
      "Epoch 9/16\n",
      "11/11 [==============================] - 10s 927ms/step - loss: 0.3005 - accuracy: 0.9024 - val_loss: 0.9553 - val_accuracy: 0.6788\n",
      "Epoch 10/16\n",
      "11/11 [==============================] - 10s 930ms/step - loss: 0.2549 - accuracy: 0.9238 - val_loss: 1.0403 - val_accuracy: 0.6485\n",
      "Epoch 11/16\n",
      "11/11 [==============================] - 10s 930ms/step - loss: 0.2254 - accuracy: 0.9253 - val_loss: 0.9756 - val_accuracy: 0.6545\n",
      "Epoch 12/16\n",
      "11/11 [==============================] - 10s 927ms/step - loss: 0.1763 - accuracy: 0.9543 - val_loss: 1.0676 - val_accuracy: 0.6970\n",
      "Epoch 13/16\n",
      "11/11 [==============================] - 10s 932ms/step - loss: 0.1575 - accuracy: 0.9604 - val_loss: 1.0673 - val_accuracy: 0.6970\n",
      "Epoch 14/16\n",
      "11/11 [==============================] - 10s 938ms/step - loss: 0.1186 - accuracy: 0.9680 - val_loss: 1.2381 - val_accuracy: 0.6727\n",
      "Epoch 15/16\n",
      "11/11 [==============================] - 10s 937ms/step - loss: 0.1157 - accuracy: 0.9680 - val_loss: 1.0650 - val_accuracy: 0.6909\n",
      "Epoch 16/16\n",
      "11/11 [==============================] - 10s 921ms/step - loss: 0.0834 - accuracy: 0.9756 - val_loss: 1.1246 - val_accuracy: 0.6788\n",
      "INFO:tensorflow:Assets written to: modelo1.h5py\\assets\n"
     ]
    },
    {
     "data": {
      "image/png": "[encoded data removed]",
      "text/plain": [
       "<Figure size 432x288 with 1 Axes>"
      ]
     },
     "metadata": {
      "needs_background": "light"
     },
     "output_type": "display_data"
    },
    {
     "data": {
      "image/png": "[encoded data removed]",
      "text/plain": [
       "<Figure size 576x432 with 1 Axes>"
      ]
     },
     "metadata": {
      "needs_background": "light"
     },
     "output_type": "display_data"
    }
   ],
   "source": [
    "sports_categorizer = modelo1.fit(train_X, train_label, batch_size=batch_size,epochs=epochs,verbose=1,validation_data=(valid_X, valid_label))\n",
    "\n",
    "# Guardamos la red, para reutilizarla en el futuro, sin tener que volver a entrenar\n",
    "modelo1.save(\"modelo1.h5py\")\n",
    "\n",
    "plt.figure(0)  \n",
    "plt.plot(sports_categorizer.history['accuracy'],'r')  \n",
    "plt.plot(sports_categorizer.history['val_accuracy'],'g')  \n",
    "plt.xticks(np.arange(0, 11, 2.0))  \n",
    "plt.rcParams['figure.figsize'] = (8, 6)  \n",
    "plt.xlabel(\"Num of Epochs\")  \n",
    "plt.ylabel(\"Accuracy\")  \n",
    "plt.title(\"Training Accuracy vs Validation Accuracy\")  \n",
    "plt.legend(['train','validation'])\n",
    "\n",
    "plt.figure(1)  \n",
    "plt.plot(sports_categorizer.history['loss'],'r')  \n",
    "plt.plot(sports_categorizer.history['val_loss'],'g')  \n",
    "plt.xticks(np.arange(0, 11, 2.0))  \n",
    "plt.rcParams['figure.figsize'] = (8, 6)  \n",
    "plt.xlabel(\"Num of Epochs\")  \n",
    "plt.ylabel(\"Loss\")  \n",
    "plt.title(\"Training Loss vs Validation Loss\")  \n",
    "plt.legend(['train','validation'])\n",
    "\n",
    "plt.show()  "
   ]
  },
  {
   "cell_type": "markdown",
   "id": "a004a5a7",
   "metadata": {},
   "source": [
    "        Entrenamiento del Modelo 2"
   ]
  },
  {
   "cell_type": "code",
   "execution_count": 12,
   "id": "9b5d1143",
   "metadata": {
    "scrolled": true
   },
   "outputs": [
    {
     "name": "stdout",
     "output_type": "stream",
     "text": [
      "Epoch 1/16\n",
      "11/11 [==============================] - 59s 5s/step - loss: 2.3970 - accuracy: 0.2515 - val_loss: 9.2805 - val_accuracy: 0.3091\n",
      "Epoch 2/16\n",
      "11/11 [==============================] - 59s 5s/step - loss: 2.0872 - accuracy: 0.3018 - val_loss: 5.8491 - val_accuracy: 0.2303\n",
      "Epoch 3/16\n",
      "11/11 [==============================] - 57s 5s/step - loss: 2.0436 - accuracy: 0.3095 - val_loss: 5.9870 - val_accuracy: 0.2364\n",
      "Epoch 4/16\n",
      "11/11 [==============================] - 57s 5s/step - loss: 1.6474 - accuracy: 0.4177 - val_loss: 1.3047 - val_accuracy: 0.5455\n",
      "Epoch 5/16\n",
      "11/11 [==============================] - 58s 5s/step - loss: 1.5974 - accuracy: 0.4527 - val_loss: 3.3925 - val_accuracy: 0.1879\n",
      "Epoch 6/16\n",
      "11/11 [==============================] - 58s 5s/step - loss: 1.4506 - accuracy: 0.4619 - val_loss: 1.1846 - val_accuracy: 0.4788\n",
      "Epoch 7/16\n",
      "11/11 [==============================] - 58s 5s/step - loss: 1.3447 - accuracy: 0.5030 - val_loss: 0.9461 - val_accuracy: 0.6424\n",
      "Epoch 8/16\n",
      "11/11 [==============================] - 58s 5s/step - loss: 1.2407 - accuracy: 0.5320 - val_loss: 1.0001 - val_accuracy: 0.6303\n",
      "Epoch 9/16\n",
      "11/11 [==============================] - 58s 5s/step - loss: 1.0939 - accuracy: 0.5945 - val_loss: 1.0454 - val_accuracy: 0.6182\n",
      "Epoch 10/16\n",
      "11/11 [==============================] - 58s 5s/step - loss: 0.9829 - accuracy: 0.6220 - val_loss: 0.8999 - val_accuracy: 0.7030\n",
      "Epoch 11/16\n",
      "11/11 [==============================] - 58s 5s/step - loss: 1.0548 - accuracy: 0.6204 - val_loss: 0.8543 - val_accuracy: 0.7152\n",
      "Epoch 12/16\n",
      "11/11 [==============================] - 58s 5s/step - loss: 0.9736 - accuracy: 0.6250 - val_loss: 0.8952 - val_accuracy: 0.6788\n",
      "Epoch 13/16\n",
      "11/11 [==============================] - 59s 5s/step - loss: 0.8165 - accuracy: 0.6982 - val_loss: 0.9404 - val_accuracy: 0.6364\n",
      "Epoch 14/16\n",
      "11/11 [==============================] - 58s 5s/step - loss: 0.7940 - accuracy: 0.7104 - val_loss: 0.9723 - val_accuracy: 0.6364\n",
      "Epoch 15/16\n",
      "11/11 [==============================] - 58s 5s/step - loss: 0.8191 - accuracy: 0.6768 - val_loss: 0.9562 - val_accuracy: 0.6364\n",
      "Epoch 16/16\n",
      "11/11 [==============================] - 58s 5s/step - loss: 0.6717 - accuracy: 0.7515 - val_loss: 0.8529 - val_accuracy: 0.7152\n",
      "INFO:tensorflow:Assets written to: modelo2.h5py\\assets\n"
     ]
    },
    {
     "data": {
      "image/png": "[encoded data removed]",
      "text/plain": [
       "<Figure size 576x432 with 1 Axes>"
      ]
     },
     "metadata": {
      "needs_background": "light"
     },
     "output_type": "display_data"
    },
    {
     "data": {
      "image/png": "[encoded data removed]",
      "text/plain": [
       "<Figure size 576x432 with 1 Axes>"
      ]
     },
     "metadata": {
      "needs_background": "light"
     },
     "output_type": "display_data"
    }
   ],
   "source": [
    "sports_categorizer = modelo2.fit(train_X, train_label, batch_size=batch_size,\n",
    "                                 epochs=epochs,verbose=1,validation_data=(valid_X, valid_label))\n",
    "# Guardamos la red, para reutilizarla en el futuro, sin tener que volver a entrenar\n",
    "modelo2.save(\"modelo2.h5py\")\n",
    "\n",
    "plt.figure(0)  \n",
    "plt.plot(sports_categorizer.history['accuracy'],'r')  \n",
    "plt.plot(sports_categorizer.history['val_accuracy'],'g')  \n",
    "plt.xticks(np.arange(0, 11, 2.0))  \n",
    "plt.rcParams['figure.figsize'] = (8, 6)  \n",
    "plt.xlabel(\"Num of Epochs\")  \n",
    "plt.ylabel(\"Accuracy\")  \n",
    "plt.title(\"Training Accuracy vs Validation Accuracy\")  \n",
    "plt.legend(['train','validation'])\n",
    "\n",
    "plt.figure(1)  \n",
    "plt.plot(sports_categorizer.history['loss'],'r')  \n",
    "plt.plot(sports_categorizer.history['val_loss'],'g')  \n",
    "plt.xticks(np.arange(0, 11, 2.0))  \n",
    "plt.rcParams['figure.figsize'] = (8, 6)  \n",
    "plt.xlabel(\"Num of Epochs\")  \n",
    "plt.ylabel(\"Loss\")  \n",
    "plt.title(\"Training Loss vs Validation Loss\")  \n",
    "plt.legend(['train','validation'])\n",
    "\n",
    "plt.show()  "
   ]
  },
  {
   "cell_type": "markdown",
   "id": "0c8b7220",
   "metadata": {},
   "source": [
    "#### Usamos los modelos con nuestro conjunto de prueba"
   ]
  },
  {
   "cell_type": "code",
   "execution_count": 13,
   "id": "8bc3db9c",
   "metadata": {},
   "outputs": [
    {
     "name": "stdout",
     "output_type": "stream",
     "text": [
      "1/1 [==============================] - 0s 62ms/step - loss: 0.8275 - accuracy: 0.8000\n",
      "Accuracy: 80.00%\n",
      "Perdida: 0.827454686164856\n"
     ]
    }
   ],
   "source": [
    "scores = modelo1.evaluate(test_X, test_Y_one_hot)\n",
    "res1 = \"\\tModelo1.- A=\"+str(round((scores[1]*100),8))+\"%, P=\"+str(round(scores[0],8))\n",
    "print(\"Accuracy: %.2f%%\" % (scores[1]*100))\n",
    "print('Perdida:', scores[0])"
   ]
  },
  {
   "cell_type": "code",
   "execution_count": 14,
   "id": "018121e2",
   "metadata": {},
   "outputs": [
    {
     "name": "stdout",
     "output_type": "stream",
     "text": [
      "1/1 [==============================] - 0s 252ms/step - loss: 0.6319 - accuracy: 0.7600\n",
      "Accuracy: 76.00%\n",
      "Perdida: 0.631852924823761\n"
     ]
    }
   ],
   "source": [
    "scores = modelo2.evaluate(test_X, test_Y_one_hot)\n",
    "res2 = \"\\tModelo2.- A=\"+str(round((scores[1]*100),8))+\"%, P=\"+str(round(scores[0],8))\n",
    "print(\"Accuracy: %.2f%%\" % (scores[1]*100))\n",
    "print('Perdida:', scores[0])"
   ]
  },
  {
   "cell_type": "code",
   "execution_count": 15,
   "id": "e2fe16cb",
   "metadata": {},
   "outputs": [
    {
     "name": "stdout",
     "output_type": "stream",
     "text": [
      "------------------------------------------------------------ \n",
      " \tModelo1.- A=80.00000119%, P=0.82745469 \n",
      " \tModelo2.- A=75.99999905%, P=0.63185292\n"
     ]
    }
   ],
   "source": [
    "print(\"----\"*15,\"\\n\",res1,\"\\n\",res2)"
   ]
  },
  {
   "cell_type": "markdown",
   "id": "bd6137fa",
   "metadata": {},
   "source": [
    "### >>>Si queremos entrenar varias veces ambos modelos usamos estas otras"
   ]
  },
  {
   "cell_type": "code",
   "execution_count": 16,
   "id": "f8ecaafc",
   "metadata": {},
   "outputs": [],
   "source": [
    "def entrenaModelo(modelo):\n",
    "    \"\"\"\n",
    "    Entrena el modelo dado con los valores guardados anteriormente, imprimiendo la historia de su accuracy y less tanto\n",
    "    para el conjunto de entrenamiento como el de validación\n",
    "    :param modelo: Modelo que entrenaremos\n",
    "    \"\"\"\n",
    "    sports_categorizer = modelo.fit(train_X, train_label, batch_size=batch_size,epochs=epochs,verbose=1,validation_data=(valid_X, valid_label))\n",
    "\n",
    "    plt.figure(0)  \n",
    "    plt.plot(sports_categorizer.history['accuracy'],'r')  \n",
    "    plt.plot(sports_categorizer.history['val_accuracy'],'g')  \n",
    "    plt.xticks(np.arange(0, (epochs+1), 2.0))  \n",
    "    plt.rcParams['figure.figsize'] = (8, 6)  \n",
    "    plt.xlabel(\"Num of Epochs\")  \n",
    "    plt.ylabel(\"Accuracy\")  \n",
    "    plt.title(\"Training Accuracy vs Validation Accuracy\")  \n",
    "    plt.legend(['train','validation'])\n",
    "\n",
    "    plt.figure(1)  \n",
    "    plt.plot(sports_categorizer.history['loss'],'r')  \n",
    "    plt.plot(sports_categorizer.history['val_loss'],'g')  \n",
    "    plt.xticks(np.arange(0, (epochs+1), 2.0))  \n",
    "    plt.rcParams['figure.figsize'] = (8, 6)  \n",
    "    plt.xlabel(\"Num of Epochs\")  \n",
    "    plt.ylabel(\"Loss\")  \n",
    "    plt.title(\"Training Loss vs Validation Loss\")  \n",
    "    plt.legend(['train','validation'])\n",
    "\n",
    "    plt.show() "
   ]
  },
  {
   "cell_type": "code",
   "execution_count": null,
   "id": "721b8647",
   "metadata": {},
   "outputs": [],
   "source": [
    "l_scores = []\n",
    "r_states = []\n",
    "\n",
    "entrenamientos = 5 #Número de veces que entrenaremos los modelos (puede ser muy tardado)\n",
    "for i in range(entrenamientos):\n",
    "    r_states.append(random.getstate())\n",
    "    # Cargamos nuestras listas originales\n",
    "    train_X, train_Y = Xe, Ye\n",
    "    test_X, test_Y = Xp, Yp \n",
    "\n",
    "    # Cambiamos el formato de los valores esperados a one-hot\n",
    "    train_Y_one_hot = to_categorical(train_Y)\n",
    "    test_Y_one_hot = to_categorical(test_Y)\n",
    "\n",
    "    #Separamos el conjunto de validación de el de entrenamiento de forma aleatoria\n",
    "    train_X,valid_X,train_label,valid_label = train_test_split(train_X, train_Y_one_hot, test_size=0.2)\n",
    "    \n",
    "    #Entrenamos el primer modelo\n",
    "    print(\"*-\"*20)\n",
    "    entrenaModelo(modelo1)\n",
    "    #Entrenamos 2do modelo\n",
    "    print(\"*-\"*20)\n",
    "    entrenaModelo(modelo2)\n",
    "    \n",
    "    #Comprobamos su comportamiento con nuestro conjunto de prueva, guardando sus resultado y su estado de random.\n",
    "        #Comprobación con el primer modelo \n",
    "    sc = [0.0, 0.0, 0.0, 0.0]\n",
    "    scores = modelo1.evaluate(test_X, test_Y_one_hot)\n",
    "    sc[0],sc[1] = (round((scores[1]*100),8)), round(scores[0],8)\n",
    "    \n",
    "        #Comprobación con el segundo modelo\n",
    "    scores = modelo2.evaluate(test_X, test_Y_one_hot)\n",
    "    sc[2],sc[3] = (round((scores[1]*100),8)), round(scores[0],8)\n",
    "    l_scores.append(sc)\n",
    "    "
   ]
  },
  {
   "cell_type": "markdown",
   "id": "d83b8bc3",
   "metadata": {},
   "source": [
    "#### Aquí desplegamos la lista de los valores de Accuracy y Perdida para las pruebas despúes de cada seción de entrenamiento."
   ]
  },
  {
   "cell_type": "code",
   "execution_count": null,
   "id": "093f75e7",
   "metadata": {},
   "outputs": [],
   "source": [
    "for s in l_scores:\n",
    "    print(\"\"\"------------------------------------------------------------\n",
    "    Modelo1.- A={0}%, P={1}\n",
    "\tModelo2.- A={2}%, P={3}\n",
    "    \"\"\".format(l_scores[0],l_scores[1],l_scores[2],l_scores[3]))"
   ]
  },
  {
   "cell_type": "code",
   "execution_count": null,
   "id": "12e2aa9c",
   "metadata": {},
   "outputs": [],
   "source": []
  }
 ],
 "metadata": {
  "kernelspec": {
   "display_name": "Python 3 (ipykernel)",
   "language": "python",
   "name": "python3"
  },
  "language_info": {
   "codemirror_mode": {
    "name": "ipython",
    "version": 3
   },
   "file_extension": ".py",
   "mimetype": "text/x-python",
   "name": "python",
   "nbconvert_exporter": "python",
   "pygments_lexer": "ipython3",
   "version": "3.9.8"
  }
 },
 "nbformat": 4,
 "nbformat_minor": 5
}
